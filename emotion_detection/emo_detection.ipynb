{
 "cells": [
  {
   "cell_type": "code",
   "execution_count": 61,
   "id": "45ab5b82",
   "metadata": {},
   "outputs": [],
   "source": [
    "from transformers import AutoTokenizer, AutoModelForSequenceClassification\n",
    "from scipy.special import softmax"
   ]
  },
  {
   "cell_type": "code",
   "execution_count": 48,
   "id": "160fb769",
   "metadata": {},
   "outputs": [
    {
     "data": {
      "application/vnd.jupyter.widget-view+json": {
       "model_id": "dbef55a7bdb24b3491213994f45209b5",
       "version_major": 2,
       "version_minor": 0
      },
      "text/plain": [
       "Downloading:   0%|          | 0.00/321 [00:00<?, ?B/s]"
      ]
     },
     "metadata": {},
     "output_type": "display_data"
    },
    {
     "data": {
      "application/vnd.jupyter.widget-view+json": {
       "model_id": "075b2c29446543c5ba92dc326f00a902",
       "version_major": 2,
       "version_minor": 0
      },
      "text/plain": [
       "Downloading:   0%|          | 0.00/226k [00:00<?, ?B/s]"
      ]
     },
     "metadata": {},
     "output_type": "display_data"
    },
    {
     "data": {
      "application/vnd.jupyter.widget-view+json": {
       "model_id": "3693ab51eb934bd28122603f561aec1d",
       "version_major": 2,
       "version_minor": 0
      },
      "text/plain": [
       "Downloading:   0%|          | 0.00/455k [00:00<?, ?B/s]"
      ]
     },
     "metadata": {},
     "output_type": "display_data"
    },
    {
     "data": {
      "application/vnd.jupyter.widget-view+json": {
       "model_id": "5bc835a0c789405db917049e82401461",
       "version_major": 2,
       "version_minor": 0
      },
      "text/plain": [
       "Downloading:   0%|          | 0.00/112 [00:00<?, ?B/s]"
      ]
     },
     "metadata": {},
     "output_type": "display_data"
    },
    {
     "data": {
      "application/vnd.jupyter.widget-view+json": {
       "model_id": "03d58a488d104677acf15dd241c74a4f",
       "version_major": 2,
       "version_minor": 0
      },
      "text/plain": [
       "Downloading:   0%|          | 0.00/1.79k [00:00<?, ?B/s]"
      ]
     },
     "metadata": {},
     "output_type": "display_data"
    },
    {
     "data": {
      "application/vnd.jupyter.widget-view+json": {
       "model_id": "65767f59f4634634a94828f873aa60ba",
       "version_major": 2,
       "version_minor": 0
      },
      "text/plain": [
       "Downloading:   0%|          | 0.00/418M [00:00<?, ?B/s]"
      ]
     },
     "metadata": {},
     "output_type": "display_data"
    }
   ],
   "source": [
    "tokenizer = AutoTokenizer.from_pretrained(\"poom-sci/bert-base-uncased-multi-emotion\")\n",
    "model = AutoModelForSequenceClassification.from_pretrained(\"poom-sci/bert-base-uncased-multi-emotion\")"
   ]
  },
  {
   "cell_type": "code",
   "execution_count": 98,
   "id": "63d4e952",
   "metadata": {},
   "outputs": [],
   "source": [
    "text = \"How dare you?\"\n",
    "encoded_input = tokenizer(text, return_tensors='pt')\n",
    "output = model(**encoded_input)"
   ]
  },
  {
   "cell_type": "code",
   "execution_count": 99,
   "id": "2dda5653",
   "metadata": {},
   "outputs": [],
   "source": [
    "probs = softmax(output['logits'][0].detach().numpy())"
   ]
  },
  {
   "cell_type": "code",
   "execution_count": 89,
   "id": "1f6c465c",
   "metadata": {},
   "outputs": [],
   "source": [
    "idx_label = {\n",
    "    0:\"admiration\",\n",
    "    1:\"amusement\",\n",
    "    2:\"anger\",\n",
    "    3:\"annoyance\",\n",
    "    4:\"approval\",\n",
    "    5:\"caring\",\n",
    "    6:\"confusion\",\n",
    "    7:\"curiosity\",\n",
    "    8:\"desire\",\n",
    "    9:\"disappointment\",\n",
    "    10:\"disapproval\",\n",
    "    11:\"disgust\",\n",
    "    12:\"embarrassment\",\n",
    "    13:\"excitement\",\n",
    "    14:\"fear\",\n",
    "    15:\"gratitude\",\n",
    "    16:\"grief\",\n",
    "    17:\"joy\",\n",
    "    18:\"love\",\n",
    "    19:\"nervousness\",\n",
    "    20:\"optimism\",\n",
    "    21:\"pride\",\n",
    "    22:\"realization\",\n",
    "    23:\"relief\",\n",
    "    24:\"remorse\",\n",
    "    25:\"sadness\",\n",
    "    26:\"surprise\",\n",
    "    27:\"neutral\"\n",
    "}"
   ]
  },
  {
   "cell_type": "code",
   "execution_count": 100,
   "id": "fdce080b",
   "metadata": {},
   "outputs": [],
   "source": [
    "label_prob = {}\n",
    "\n",
    "for idx in idx_label.keys():\n",
    "    label_prob[idx_label[idx]] = probs[idx]"
   ]
  },
  {
   "cell_type": "code",
   "execution_count": 106,
   "id": "e07a9e07",
   "metadata": {},
   "outputs": [
    {
     "data": {
      "text/plain": [
       "{'admiration': 0.00324008,\n",
       " 'amusement': 0.0048223836,\n",
       " 'anger': 0.7479057,\n",
       " 'annoyance': 0.14316264,\n",
       " 'approval': 0.0018631633,\n",
       " 'caring': 0.0022511063,\n",
       " 'confusion': 0.0040520225,\n",
       " 'curiosity': 0.011388545,\n",
       " 'desire': 0.0015001358,\n",
       " 'disappointment': 0.006380169,\n",
       " 'disapproval': 0.008218228,\n",
       " 'disgust': 0.009671465,\n",
       " 'embarrassment': 0.0016351062,\n",
       " 'excitement': 0.001962059,\n",
       " 'fear': 0.0023681659,\n",
       " 'gratitude': 0.0036888665,\n",
       " 'grief': 0.0006381362,\n",
       " 'joy': 0.001793079,\n",
       " 'love': 0.0041772737,\n",
       " 'nervousness': 0.0013740017,\n",
       " 'optimism': 0.0015665516,\n",
       " 'pride': 0.00072079926,\n",
       " 'realization': 0.0022735833,\n",
       " 'relief': 0.0008037451,\n",
       " 'remorse': 0.0005524028,\n",
       " 'sadness': 0.0037195487,\n",
       " 'surprise': 0.0038107797,\n",
       " 'neutral': 0.024460277}"
      ]
     },
     "execution_count": 106,
     "metadata": {},
     "output_type": "execute_result"
    }
   ],
   "source": [
    "label_prob"
   ]
  }
 ],
 "metadata": {
  "kernelspec": {
   "display_name": "Python 3",
   "language": "python",
   "name": "python3"
  },
  "language_info": {
   "codemirror_mode": {
    "name": "ipython",
    "version": 3
   },
   "file_extension": ".py",
   "mimetype": "text/x-python",
   "name": "python",
   "nbconvert_exporter": "python",
   "pygments_lexer": "ipython3",
   "version": "3.8.8"
  }
 },
 "nbformat": 4,
 "nbformat_minor": 5
}
